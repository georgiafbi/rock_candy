{
 "cells": [
  {
   "cell_type": "code",
   "execution_count": 42,
   "metadata": {},
   "outputs": [],
   "source": [
    "import extract_and_transform as et\n",
    "from sklearn.metrics import mean_squared_error,mean_absolute_error\n",
    "from sklearn import linear_model\n",
    "from sklearn.preprocessing import StandardScaler\n",
    "import os\n",
    "import joblib"
   ]
  },
  {
   "cell_type": "code",
   "execution_count": null,
   "metadata": {},
   "outputs": [],
   "source": []
  },
  {
   "cell_type": "code",
   "execution_count": 43,
   "metadata": {},
   "outputs": [],
   "source": [
    "X_train,X_test,y_train,y_test=et.training_data()"
   ]
  },
  {
   "cell_type": "code",
   "execution_count": 44,
   "metadata": {},
   "outputs": [
    {
     "data": {
      "text/html": [
       "<div>\n",
       "<style scoped>\n",
       "    .dataframe tbody tr th:only-of-type {\n",
       "        vertical-align: middle;\n",
       "    }\n",
       "\n",
       "    .dataframe tbody tr th {\n",
       "        vertical-align: top;\n",
       "    }\n",
       "\n",
       "    .dataframe thead th {\n",
       "        text-align: right;\n",
       "    }\n",
       "</style>\n",
       "<table border=\"1\" class=\"dataframe\">\n",
       "  <thead>\n",
       "    <tr style=\"text-align: right;\">\n",
       "      <th></th>\n",
       "      <th>cement</th>\n",
       "      <th>blast_furnace_slage</th>\n",
       "      <th>fly_ash</th>\n",
       "      <th>water</th>\n",
       "      <th>superplasticizer</th>\n",
       "      <th>coarse_aggregate</th>\n",
       "      <th>fine_aggregate</th>\n",
       "      <th>age</th>\n",
       "    </tr>\n",
       "  </thead>\n",
       "  <tbody>\n",
       "    <tr>\n",
       "      <th>995</th>\n",
       "      <td>158.6</td>\n",
       "      <td>148.9</td>\n",
       "      <td>116.0</td>\n",
       "      <td>175.1</td>\n",
       "      <td>15.0</td>\n",
       "      <td>953.3</td>\n",
       "      <td>719.7</td>\n",
       "      <td>28</td>\n",
       "    </tr>\n",
       "    <tr>\n",
       "      <th>507</th>\n",
       "      <td>424.0</td>\n",
       "      <td>22.0</td>\n",
       "      <td>132.0</td>\n",
       "      <td>178.0</td>\n",
       "      <td>8.5</td>\n",
       "      <td>822.0</td>\n",
       "      <td>750.0</td>\n",
       "      <td>28</td>\n",
       "    </tr>\n",
       "    <tr>\n",
       "      <th>334</th>\n",
       "      <td>275.1</td>\n",
       "      <td>0.0</td>\n",
       "      <td>121.4</td>\n",
       "      <td>159.5</td>\n",
       "      <td>9.9</td>\n",
       "      <td>1053.6</td>\n",
       "      <td>777.5</td>\n",
       "      <td>3</td>\n",
       "    </tr>\n",
       "    <tr>\n",
       "      <th>848</th>\n",
       "      <td>252.0</td>\n",
       "      <td>97.0</td>\n",
       "      <td>76.0</td>\n",
       "      <td>194.0</td>\n",
       "      <td>8.0</td>\n",
       "      <td>835.0</td>\n",
       "      <td>821.0</td>\n",
       "      <td>28</td>\n",
       "    </tr>\n",
       "    <tr>\n",
       "      <th>294</th>\n",
       "      <td>168.9</td>\n",
       "      <td>42.2</td>\n",
       "      <td>124.3</td>\n",
       "      <td>158.3</td>\n",
       "      <td>10.8</td>\n",
       "      <td>1080.8</td>\n",
       "      <td>796.2</td>\n",
       "      <td>3</td>\n",
       "    </tr>\n",
       "    <tr>\n",
       "      <th>...</th>\n",
       "      <td>...</td>\n",
       "      <td>...</td>\n",
       "      <td>...</td>\n",
       "      <td>...</td>\n",
       "      <td>...</td>\n",
       "      <td>...</td>\n",
       "      <td>...</td>\n",
       "      <td>...</td>\n",
       "    </tr>\n",
       "    <tr>\n",
       "      <th>87</th>\n",
       "      <td>286.3</td>\n",
       "      <td>200.9</td>\n",
       "      <td>0.0</td>\n",
       "      <td>144.7</td>\n",
       "      <td>11.2</td>\n",
       "      <td>1004.6</td>\n",
       "      <td>803.7</td>\n",
       "      <td>3</td>\n",
       "    </tr>\n",
       "    <tr>\n",
       "      <th>330</th>\n",
       "      <td>246.8</td>\n",
       "      <td>0.0</td>\n",
       "      <td>125.1</td>\n",
       "      <td>143.3</td>\n",
       "      <td>12.0</td>\n",
       "      <td>1086.8</td>\n",
       "      <td>800.9</td>\n",
       "      <td>14</td>\n",
       "    </tr>\n",
       "    <tr>\n",
       "      <th>466</th>\n",
       "      <td>190.3</td>\n",
       "      <td>0.0</td>\n",
       "      <td>125.2</td>\n",
       "      <td>166.6</td>\n",
       "      <td>9.9</td>\n",
       "      <td>1079.0</td>\n",
       "      <td>798.9</td>\n",
       "      <td>100</td>\n",
       "    </tr>\n",
       "    <tr>\n",
       "      <th>121</th>\n",
       "      <td>475.0</td>\n",
       "      <td>118.8</td>\n",
       "      <td>0.0</td>\n",
       "      <td>181.1</td>\n",
       "      <td>8.9</td>\n",
       "      <td>852.1</td>\n",
       "      <td>781.5</td>\n",
       "      <td>28</td>\n",
       "    </tr>\n",
       "    <tr>\n",
       "      <th>860</th>\n",
       "      <td>314.0</td>\n",
       "      <td>0.0</td>\n",
       "      <td>113.0</td>\n",
       "      <td>170.0</td>\n",
       "      <td>10.0</td>\n",
       "      <td>925.0</td>\n",
       "      <td>783.0</td>\n",
       "      <td>28</td>\n",
       "    </tr>\n",
       "  </tbody>\n",
       "</table>\n",
       "<p>824 rows × 8 columns</p>\n",
       "</div>"
      ],
      "text/plain": [
       "     cement  blast_furnace_slage  fly_ash  water  superplasticizer  \\\n",
       "995   158.6                148.9    116.0  175.1              15.0   \n",
       "507   424.0                 22.0    132.0  178.0               8.5   \n",
       "334   275.1                  0.0    121.4  159.5               9.9   \n",
       "848   252.0                 97.0     76.0  194.0               8.0   \n",
       "294   168.9                 42.2    124.3  158.3              10.8   \n",
       "..      ...                  ...      ...    ...               ...   \n",
       "87    286.3                200.9      0.0  144.7              11.2   \n",
       "330   246.8                  0.0    125.1  143.3              12.0   \n",
       "466   190.3                  0.0    125.2  166.6               9.9   \n",
       "121   475.0                118.8      0.0  181.1               8.9   \n",
       "860   314.0                  0.0    113.0  170.0              10.0   \n",
       "\n",
       "     coarse_aggregate  fine_aggregate  age  \n",
       "995             953.3           719.7   28  \n",
       "507             822.0           750.0   28  \n",
       "334            1053.6           777.5    3  \n",
       "848             835.0           821.0   28  \n",
       "294            1080.8           796.2    3  \n",
       "..                ...             ...  ...  \n",
       "87             1004.6           803.7    3  \n",
       "330            1086.8           800.9   14  \n",
       "466            1079.0           798.9  100  \n",
       "121             852.1           781.5   28  \n",
       "860             925.0           783.0   28  \n",
       "\n",
       "[824 rows x 8 columns]"
      ]
     },
     "execution_count": 44,
     "metadata": {},
     "output_type": "execute_result"
    }
   ],
   "source": [
    "X_train"
   ]
  },
  {
   "cell_type": "code",
   "execution_count": 31,
   "metadata": {},
   "outputs": [],
   "source": [
    "scaler=StandardScaler()\n",
    "scaler.fit(X_train)\n",
    "X_train_scaled=scaler.transform(X_train)\n",
    "X_test_scaled=scaler.transform(X_test)"
   ]
  },
  {
   "cell_type": "code",
   "execution_count": 32,
   "metadata": {},
   "outputs": [
    {
     "data": {
      "text/plain": [
       "array([[-1.16087734,  0.85738747,  0.9824489 , ..., -0.25746155,\n",
       "        -0.64752011, -0.27567315],\n",
       "       [ 1.30862304, -0.60249189,  1.23259821, ..., -1.92694961,\n",
       "        -0.2731482 , -0.27567315],\n",
       "       [-0.0768653 , -0.85558366,  1.06687429, ...,  1.01785948,\n",
       "         0.06662828, -0.68931339],\n",
       "       ...,\n",
       "       [-0.86591441, -0.85558366,  1.12628475, ...,  1.34082214,\n",
       "         0.33103616,  0.91561074],\n",
       "       [ 1.78316909,  0.51111191, -0.83113361, ..., -1.54422615,\n",
       "         0.11605031, -0.27567315],\n",
       "       [ 0.28509237, -0.85558366,  0.9355459 , ..., -0.6172979 ,\n",
       "         0.13458358, -0.27567315]])"
      ]
     },
     "execution_count": 32,
     "metadata": {},
     "output_type": "execute_result"
    }
   ],
   "source": [
    "X_train_scaled"
   ]
  },
  {
   "cell_type": "code",
   "execution_count": 45,
   "metadata": {},
   "outputs": [],
   "source": [
    "feature_names=[\"cement\",\"blast_furnace_slage\",\"fly_ash\",\"water\",\"superplasticizer\",\"coarse_aggregate\",\"fine_aggregate\",\"age\"]"
   ]
  },
  {
   "cell_type": "code",
   "execution_count": 46,
   "metadata": {},
   "outputs": [],
   "source": [
    "from sklearn.tree import DecisionTreeRegressor\n",
    "from sklearn.ensemble import RandomForestRegressor\n",
    "from sklearn.model_selection import GridSearchCV\n",
    "import numpy as np"
   ]
  },
  {
   "cell_type": "code",
   "execution_count": 47,
   "metadata": {},
   "outputs": [],
   "source": [
    "max_depth = [45]#[int(x) for x in np.linspace(1,201,10)]\n",
    "max_depth.append(None)\n",
    "param_grid={'bootstrap':[False],\n",
    "            'max_depth':max_depth,\n",
    "            'max_features':['auto','log2'],\n",
    "            'n_estimators': [156]#[int(x) for x in np.linspace(1, 201, 10)] }"
   ]
  },
  {
   "cell_type": "code",
   "execution_count": 48,
   "metadata": {},
   "outputs": [],
   "source": [
    "rfr=RandomForestRegressor(random_state=1)"
   ]
  },
  {
   "cell_type": "code",
   "execution_count": 49,
   "metadata": {},
   "outputs": [],
   "source": [
    "g_search=GridSearchCV(estimator=rfr,param_grid=param_grid,cv=5,n_jobs=1,verbose=0,return_train_score=True)"
   ]
  },
  {
   "cell_type": "code",
   "execution_count": 50,
   "metadata": {},
   "outputs": [
    {
     "data": {
      "text/plain": [
       "{'bootstrap': False,\n",
       " 'max_depth': 45,\n",
       " 'max_features': 'log2',\n",
       " 'n_estimators': 156}"
      ]
     },
     "execution_count": 50,
     "metadata": {},
     "output_type": "execute_result"
    }
   ],
   "source": [
    "g_search.fit(X_train,y_train)\n",
    "g_search.best_params_"
   ]
  },
  {
   "cell_type": "code",
   "execution_count": null,
   "metadata": {},
   "outputs": [],
   "source": []
  },
  {
   "cell_type": "code",
   "execution_count": 51,
   "metadata": {},
   "outputs": [
    {
     "name": "stdout",
     "output_type": "stream",
     "text": [
      "0.8917394743932537\n"
     ]
    }
   ],
   "source": [
    "print(g_search.score(X_test,y_test))"
   ]
  },
  {
   "cell_type": "code",
   "execution_count": 52,
   "metadata": {},
   "outputs": [
    {
     "name": "stdout",
     "output_type": "stream",
     "text": [
      "Mean squared error from random forest regression:  27.896236020482345\n",
      "Mean absolute error from random forest regression:  3.442603881420634\n"
     ]
    }
   ],
   "source": [
    "predictions=g_search.predict(X_test)\n",
    "mse_rf=mean_squared_error(y_test,predictions)\n",
    "mae_rf=mean_absolute_error(y_test,predictions)\n",
    "print('Mean squared error from random forest regression: ', mse_rf)\n",
    "print('Mean absolute error from random forest regression: ', mae_rf)\n",
    "import pandas as pd\n",
    "feature_imp=pd.Series(g_search.best_estimator_.feature_importances_,index=feature_names).sort_values()"
   ]
  },
  {
   "cell_type": "code",
   "execution_count": 53,
   "metadata": {},
   "outputs": [
    {
     "data": {
      "text/plain": [
       "fine_aggregate         0.050848\n",
       "coarse_aggregate       0.051582\n",
       "fly_ash                0.054364\n",
       "blast_furnace_slage    0.064093\n",
       "superplasticizer       0.071039\n",
       "water                  0.122931\n",
       "cement                 0.238894\n",
       "age                    0.346249\n",
       "dtype: float64"
      ]
     },
     "execution_count": 53,
     "metadata": {},
     "output_type": "execute_result"
    }
   ],
   "source": [
    "feature_imp"
   ]
  },
  {
   "cell_type": "code",
   "execution_count": 54,
   "metadata": {},
   "outputs": [],
   "source": [
    "def print_predict(y_test,predictions):\n",
    "    for i in range(len(predictions)):\n",
    "        act=y_test[i]\n",
    "        pred=round(predictions[i],2)\n",
    "        delta=round(act-pred,2)\n",
    "        print(f\"Actual: {act}, Prediction: {pred}, Delta: {delta}\")"
   ]
  },
  {
   "cell_type": "code",
   "execution_count": 55,
   "metadata": {},
   "outputs": [
    {
     "data": {
      "text/plain": [
       "0.8917394743932537"
      ]
     },
     "execution_count": 55,
     "metadata": {},
     "output_type": "execute_result"
    }
   ],
   "source": [
    "\n",
    "g_search.score(X_test,y_test)"
   ]
  },
  {
   "cell_type": "code",
   "execution_count": 56,
   "metadata": {},
   "outputs": [
    {
     "name": "stdout",
     "output_type": "stream",
     "text": [
      "Actual: 52.91, Prediction: 51.98, Delta: 0.93\n",
      "Actual: 55.9, Prediction: 39.4, Delta: 16.5\n",
      "Actual: 74.5, Prediction: 72.21, Delta: 2.29\n",
      "Actual: 35.3, Prediction: 35.3, Delta: 0.0\n",
      "Actual: 10.54, Prediction: 10.99, Delta: -0.45\n",
      "Actual: 44.28, Prediction: 44.87, Delta: -0.59\n",
      "Actual: 23.69, Prediction: 23.73, Delta: -0.04\n",
      "Actual: 45.37, Prediction: 47.76, Delta: -2.39\n",
      "Actual: 37.4, Prediction: 35.09, Delta: 2.31\n",
      "Actual: 48.85, Prediction: 43.56, Delta: 5.29\n",
      "Actual: 25.1, Prediction: 39.79, Delta: -14.69\n",
      "Actual: 10.73, Prediction: 14.92, Delta: -4.19\n",
      "Actual: 40.2, Prediction: 43.48, Delta: -3.28\n",
      "Actual: 49.8, Prediction: 34.72, Delta: 15.08\n",
      "Actual: 33.01, Prediction: 25.13, Delta: 7.88\n",
      "Actual: 21.92, Prediction: 24.61, Delta: -2.69\n",
      "Actual: 40.06, Prediction: 38.73, Delta: 1.33\n",
      "Actual: 19.35, Prediction: 17.3, Delta: 2.05\n",
      "Actual: 37.17, Prediction: 36.91, Delta: 0.26\n",
      "Actual: 33.09, Prediction: 33.18, Delta: -0.09\n",
      "Actual: 31.38, Prediction: 33.87, Delta: -2.49\n",
      "Actual: 37.96, Prediction: 38.07, Delta: -0.11\n",
      "Actual: 48.72, Prediction: 46.61, Delta: 2.11\n",
      "Actual: 6.9, Prediction: 10.67, Delta: -3.77\n",
      "Actual: 38.6, Prediction: 32.36, Delta: 6.24\n",
      "Actual: 30.85, Prediction: 37.48, Delta: -6.63\n",
      "Actual: 11.17, Prediction: 10.82, Delta: 0.35\n",
      "Actual: 41.05, Prediction: 41.25, Delta: -0.2\n",
      "Actual: 52.96, Prediction: 53.88, Delta: -0.92\n",
      "Actual: 13.22, Prediction: 15.76, Delta: -2.54\n",
      "Actual: 52.3, Prediction: 52.8, Delta: -0.5\n",
      "Actual: 39.6, Prediction: 33.17, Delta: 6.43\n",
      "Actual: 51.86, Prediction: 46.42, Delta: 5.44\n",
      "Actual: 66.42, Prediction: 47.76, Delta: 18.66\n",
      "Actual: 14.94, Prediction: 20.92, Delta: -5.98\n",
      "Actual: 33.02, Prediction: 39.6, Delta: -6.58\n",
      "Actual: 31.64, Prediction: 34.67, Delta: -3.03\n",
      "Actual: 39.42, Prediction: 43.54, Delta: -4.12\n",
      "Actual: 13.66, Prediction: 10.71, Delta: 2.95\n",
      "Actual: 51.96, Prediction: 53.32, Delta: -1.36\n",
      "Actual: 15.58, Prediction: 16.68, Delta: -1.1\n",
      "Actual: 6.28, Prediction: 5.63, Delta: 0.65\n",
      "Actual: 38.07, Prediction: 40.19, Delta: -2.12\n",
      "Actual: 50.24, Prediction: 48.18, Delta: 2.06\n",
      "Actual: 10.03, Prediction: 13.78, Delta: -3.75\n",
      "Actual: 63.4, Prediction: 62.5, Delta: 0.9\n",
      "Actual: 55.55, Prediction: 48.35, Delta: 7.2\n",
      "Actual: 36.15, Prediction: 35.06, Delta: 1.09\n",
      "Actual: 21.75, Prediction: 25.86, Delta: -4.11\n",
      "Actual: 4.83, Prediction: 8.84, Delta: -4.01\n",
      "Actual: 57.21, Prediction: 56.57, Delta: 0.64\n",
      "Actual: 47.78, Prediction: 41.76, Delta: 6.02\n",
      "Actual: 29.41, Prediction: 24.87, Delta: 4.54\n",
      "Actual: 12.37, Prediction: 17.05, Delta: -4.68\n",
      "Actual: 64.02, Prediction: 45.48, Delta: 18.54\n",
      "Actual: 34.4, Prediction: 38.14, Delta: -3.74\n",
      "Actual: 25.37, Prediction: 25.15, Delta: 0.22\n",
      "Actual: 13.71, Prediction: 11.58, Delta: 2.13\n",
      "Actual: 31.72, Prediction: 34.16, Delta: -2.44\n",
      "Actual: 19.77, Prediction: 19.4, Delta: 0.37\n",
      "Actual: 39.42, Prediction: 43.15, Delta: -3.73\n",
      "Actual: 13.52, Prediction: 16.6, Delta: -3.08\n",
      "Actual: 35.34, Prediction: 36.27, Delta: -0.93\n",
      "Actual: 46.8, Prediction: 49.82, Delta: -3.02\n",
      "Actual: 33.0, Prediction: 32.38, Delta: 0.62\n",
      "Actual: 18.03, Prediction: 19.0, Delta: -0.97\n",
      "Actual: 33.4, Prediction: 35.78, Delta: -2.38\n",
      "Actual: 12.18, Prediction: 12.44, Delta: -0.26\n",
      "Actual: 27.66, Prediction: 31.28, Delta: -3.62\n",
      "Actual: 24.43, Prediction: 22.37, Delta: 2.06\n",
      "Actual: 11.65, Prediction: 12.35, Delta: -0.7\n",
      "Actual: 24.05, Prediction: 26.21, Delta: -2.16\n",
      "Actual: 9.31, Prediction: 8.41, Delta: 0.9\n",
      "Actual: 25.1, Prediction: 39.79, Delta: -14.69\n",
      "Actual: 26.14, Prediction: 26.13, Delta: 0.01\n",
      "Actual: 11.58, Prediction: 12.79, Delta: -1.21\n",
      "Actual: 55.26, Prediction: 51.94, Delta: 3.32\n",
      "Actual: 60.95, Prediction: 51.66, Delta: 9.29\n",
      "Actual: 61.86, Prediction: 58.64, Delta: 3.22\n",
      "Actual: 14.59, Prediction: 9.49, Delta: 5.1\n",
      "Actual: 44.21, Prediction: 39.73, Delta: 4.48\n",
      "Actual: 34.9, Prediction: 43.58, Delta: -8.68\n",
      "Actual: 41.68, Prediction: 36.7, Delta: 4.98\n",
      "Actual: 39.59, Prediction: 40.89, Delta: -1.3\n",
      "Actual: 41.05, Prediction: 41.08, Delta: -0.03\n",
      "Actual: 35.3, Prediction: 35.3, Delta: 0.0\n",
      "Actual: 44.61, Prediction: 43.83, Delta: 0.78\n",
      "Actual: 33.72, Prediction: 33.46, Delta: 0.26\n",
      "Actual: 21.5, Prediction: 23.56, Delta: -2.06\n",
      "Actual: 20.08, Prediction: 22.34, Delta: -2.26\n",
      "Actual: 31.65, Prediction: 31.75, Delta: -0.1\n",
      "Actual: 75.5, Prediction: 73.93, Delta: 1.57\n",
      "Actual: 15.04, Prediction: 13.16, Delta: 1.88\n",
      "Actual: 56.61, Prediction: 54.93, Delta: 1.68\n",
      "Actual: 53.52, Prediction: 39.44, Delta: 14.08\n",
      "Actual: 50.66, Prediction: 48.64, Delta: 2.02\n",
      "Actual: 31.35, Prediction: 24.13, Delta: 7.22\n",
      "Actual: 45.71, Prediction: 40.63, Delta: 5.08\n",
      "Actual: 19.11, Prediction: 20.61, Delta: -1.5\n",
      "Actual: 32.92, Prediction: 33.47, Delta: -0.55\n",
      "Actual: 25.45, Prediction: 28.98, Delta: -3.53\n",
      "Actual: 41.94, Prediction: 43.42, Delta: -1.48\n",
      "Actual: 36.25, Prediction: 34.14, Delta: 2.11\n",
      "Actual: 24.0, Prediction: 24.11, Delta: -0.11\n",
      "Actual: 70.7, Prediction: 69.35, Delta: 1.35\n",
      "Actual: 10.34, Prediction: 11.97, Delta: -1.63\n",
      "Actual: 56.81, Prediction: 54.13, Delta: 2.68\n",
      "Actual: 30.12, Prediction: 29.13, Delta: 0.99\n",
      "Actual: 44.64, Prediction: 41.82, Delta: 2.82\n",
      "Actual: 44.52, Prediction: 58.74, Delta: -14.22\n",
      "Actual: 44.7, Prediction: 40.38, Delta: 4.32\n",
      "Actual: 51.04, Prediction: 51.38, Delta: -0.34\n",
      "Actual: 30.28, Prediction: 28.04, Delta: 2.24\n",
      "Actual: 37.34, Prediction: 37.38, Delta: -0.04\n",
      "Actual: 38.61, Prediction: 35.75, Delta: 2.86\n",
      "Actual: 61.07, Prediction: 55.25, Delta: 5.82\n",
      "Actual: 18.13, Prediction: 20.76, Delta: -2.63\n",
      "Actual: 33.76, Prediction: 33.76, Delta: 0.0\n",
      "Actual: 61.99, Prediction: 59.4, Delta: 2.59\n",
      "Actual: 53.52, Prediction: 39.46, Delta: 14.06\n",
      "Actual: 19.77, Prediction: 19.97, Delta: -0.2\n",
      "Actual: 26.94, Prediction: 27.28, Delta: -0.34\n",
      "Actual: 51.43, Prediction: 52.62, Delta: -1.19\n",
      "Actual: 29.98, Prediction: 29.71, Delta: 0.27\n",
      "Actual: 21.91, Prediction: 25.76, Delta: -3.85\n",
      "Actual: 43.5, Prediction: 45.74, Delta: -2.24\n",
      "Actual: 59.76, Prediction: 52.6, Delta: 7.16\n",
      "Actual: 49.2, Prediction: 49.2, Delta: 0.0\n",
      "Actual: 42.14, Prediction: 42.2, Delta: -0.06\n",
      "Actual: 32.4, Prediction: 33.06, Delta: -0.66\n",
      "Actual: 11.47, Prediction: 11.61, Delta: -0.14\n",
      "Actual: 41.89, Prediction: 34.54, Delta: 7.35\n",
      "Actual: 12.25, Prediction: 21.3, Delta: -9.05\n",
      "Actual: 71.7, Prediction: 69.47, Delta: 2.23\n",
      "Actual: 8.2, Prediction: 9.46, Delta: -1.26\n",
      "Actual: 40.27, Prediction: 40.48, Delta: -0.21\n",
      "Actual: 31.74, Prediction: 32.12, Delta: -0.38\n",
      "Actual: 39.61, Prediction: 37.92, Delta: 1.69\n",
      "Actual: 22.5, Prediction: 23.99, Delta: -1.49\n",
      "Actual: 37.36, Prediction: 37.13, Delta: 0.23\n",
      "Actual: 33.69, Prediction: 28.18, Delta: 5.51\n",
      "Actual: 31.18, Prediction: 31.36, Delta: -0.18\n",
      "Actual: 23.08, Prediction: 17.55, Delta: 5.53\n",
      "Actual: 31.25, Prediction: 32.2, Delta: -0.95\n",
      "Actual: 46.23, Prediction: 45.19, Delta: 1.04\n",
      "Actual: 43.57, Prediction: 43.62, Delta: -0.05\n",
      "Actual: 26.86, Prediction: 26.83, Delta: 0.03\n",
      "Actual: 13.2, Prediction: 13.34, Delta: -0.14\n",
      "Actual: 6.88, Prediction: 8.19, Delta: -1.31\n",
      "Actual: 14.8, Prediction: 17.27, Delta: -2.47\n",
      "Actual: 48.28, Prediction: 42.82, Delta: 5.46\n",
      "Actual: 15.09, Prediction: 19.94, Delta: -4.85\n",
      "Actual: 41.67, Prediction: 44.44, Delta: -2.77\n",
      "Actual: 29.75, Prediction: 22.59, Delta: 7.16\n",
      "Actual: 48.15, Prediction: 39.75, Delta: 8.4\n",
      "Actual: 41.16, Prediction: 40.7, Delta: 0.46\n",
      "Actual: 23.84, Prediction: 25.02, Delta: -1.18\n",
      "Actual: 71.62, Prediction: 69.6, Delta: 2.02\n",
      "Actual: 55.9, Prediction: 39.4, Delta: 16.5\n",
      "Actual: 52.42, Prediction: 46.05, Delta: 6.37\n",
      "Actual: 14.64, Prediction: 13.94, Delta: 0.7\n",
      "Actual: 56.7, Prediction: 57.0, Delta: -0.3\n",
      "Actual: 35.23, Prediction: 33.48, Delta: 1.75\n",
      "Actual: 53.3, Prediction: 53.13, Delta: 0.17\n",
      "Actual: 33.4, Prediction: 33.4, Delta: 0.0\n",
      "Actual: 66.78, Prediction: 68.75, Delta: -1.97\n",
      "Actual: 41.54, Prediction: 41.0, Delta: 0.54\n",
      "Actual: 29.93, Prediction: 22.01, Delta: 7.92\n",
      "Actual: 52.01, Prediction: 38.66, Delta: 13.35\n",
      "Actual: 21.02, Prediction: 22.1, Delta: -1.08\n",
      "Actual: 51.33, Prediction: 47.26, Delta: 4.07\n",
      "Actual: 16.89, Prediction: 10.8, Delta: 6.09\n",
      "Actual: 24.28, Prediction: 24.55, Delta: -0.27\n",
      "Actual: 38.63, Prediction: 40.68, Delta: -2.05\n",
      "Actual: 36.35, Prediction: 36.16, Delta: 0.19\n",
      "Actual: 8.0, Prediction: 11.33, Delta: -3.33\n",
      "Actual: 30.44, Prediction: 30.12, Delta: 0.32\n",
      "Actual: 55.83, Prediction: 45.68, Delta: 10.15\n",
      "Actual: 52.43, Prediction: 50.96, Delta: 1.47\n",
      "Actual: 36.45, Prediction: 36.83, Delta: -0.38\n",
      "Actual: 33.05, Prediction: 30.0, Delta: 3.05\n",
      "Actual: 26.92, Prediction: 26.92, Delta: 0.0\n",
      "Actual: 44.52, Prediction: 58.74, Delta: -14.22\n",
      "Actual: 32.72, Prediction: 31.99, Delta: 0.73\n",
      "Actual: 52.5, Prediction: 40.7, Delta: 11.8\n",
      "Actual: 54.38, Prediction: 51.6, Delta: 2.78\n",
      "Actual: 22.44, Prediction: 22.77, Delta: -0.33\n",
      "Actual: 30.22, Prediction: 34.45, Delta: -4.23\n",
      "Actual: 24.1, Prediction: 31.34, Delta: -7.24\n",
      "Actual: 17.24, Prediction: 15.35, Delta: 1.89\n",
      "Actual: 34.77, Prediction: 25.98, Delta: 8.79\n",
      "Actual: 37.68, Prediction: 38.24, Delta: -0.56\n",
      "Actual: 40.39, Prediction: 37.9, Delta: 2.49\n",
      "Actual: 40.29, Prediction: 38.65, Delta: 1.64\n",
      "Actual: 29.79, Prediction: 27.72, Delta: 2.07\n",
      "Actual: 32.9, Prediction: 24.98, Delta: 7.92\n",
      "Actual: 60.32, Prediction: 42.06, Delta: 18.26\n",
      "Actual: 15.09, Prediction: 19.93, Delta: -4.84\n",
      "Actual: 19.99, Prediction: 20.76, Delta: -0.77\n",
      "Actual: 25.73, Prediction: 27.96, Delta: -2.23\n",
      "Actual: 47.71, Prediction: 38.68, Delta: 9.03\n",
      "Actual: 56.14, Prediction: 55.25, Delta: 0.89\n",
      "Actual: 18.75, Prediction: 23.5, Delta: -4.75\n",
      "Actual: 38.0, Prediction: 34.95, Delta: 3.05\n",
      "Actual: 74.36, Prediction: 68.53, Delta: 5.83\n",
      "Actual: 35.17, Prediction: 35.84, Delta: -0.67\n"
     ]
    }
   ],
   "source": [
    "print_predict(y_test,predictions)"
   ]
  },
  {
   "cell_type": "code",
   "execution_count": 57,
   "metadata": {},
   "outputs": [
    {
     "data": {
      "text/plain": [
       "['random_forest_regression.joblib']"
      ]
     },
     "execution_count": 57,
     "metadata": {},
     "output_type": "execute_result"
    }
   ],
   "source": [
    "# save\n",
    "joblib.dump(g_search, \"random_forest_regression.joblib\")"
   ]
  },
  {
   "cell_type": "code",
   "execution_count": 25,
   "metadata": {},
   "outputs": [],
   "source": [
    "# load, no need to initialize the loaded_rf\n",
    "rfr_model = joblib.load(\"random_forest_regression.joblib\")"
   ]
  },
  {
   "cell_type": "code",
   "execution_count": 58,
   "metadata": {},
   "outputs": [
    {
     "data": {
      "text/plain": [
       "array([28.42666667])"
      ]
     },
     "execution_count": 58,
     "metadata": {},
     "output_type": "execute_result"
    }
   ],
   "source": [
    "data=np.array([10,10,10,10,10,10,10,10]).reshape(1,-1)\n",
    "rfr_model.predict(data)"
   ]
  },
  {
   "cell_type": "code",
   "execution_count": null,
   "metadata": {},
   "outputs": [],
   "source": [
    "from sklearn.model_selection import RandomizedSearchCV\n",
    "import numpy as np"
   ]
  },
  {
   "cell_type": "code",
   "execution_count": null,
   "metadata": {},
   "outputs": [],
   "source": [
    "n_estimators = [int(x) for x in np.linspace(5 , 150, 145)] "
   ]
  },
  {
   "cell_type": "code",
   "execution_count": null,
   "metadata": {},
   "outputs": [],
   "source": [
    "max_depth = [int(x) for x in np.linspace(1,200,200)]\n",
    "max_depth.append(None)"
   ]
  },
  {
   "cell_type": "code",
   "execution_count": null,
   "metadata": {},
   "outputs": [],
   "source": [
    "max_depth"
   ]
  },
  {
   "cell_type": "code",
   "execution_count": null,
   "metadata": {},
   "outputs": [],
   "source": [
    "bootstrap=[True,False]"
   ]
  },
  {
   "cell_type": "code",
   "execution_count": null,
   "metadata": {},
   "outputs": [],
   "source": [
    "random_grid={'n_estimators':n_estimators,'max_features':['auto','log2'],'max_depth':max_depth,'bootstrap':bootstrap}"
   ]
  },
  {
   "cell_type": "code",
   "execution_count": null,
   "metadata": {},
   "outputs": [],
   "source": [
    "print(random_grid)"
   ]
  },
  {
   "cell_type": "code",
   "execution_count": null,
   "metadata": {},
   "outputs": [],
   "source": [
    "random_search=RandomizedSearchCV(estimator=rfr,\n",
    "                                 param_distributions=random_grid,\n",
    "                                 n_iter=50,scoring='neg_mean_absolute_error',\n",
    "                                cv=3,verbose=0,random_state=42,\n",
    "                                 n_jobs=1,return_train_score=True)"
   ]
  },
  {
   "cell_type": "code",
   "execution_count": null,
   "metadata": {},
   "outputs": [],
   "source": [
    "random_search.fit(X_train,y_train)"
   ]
  },
  {
   "cell_type": "code",
   "execution_count": null,
   "metadata": {},
   "outputs": [],
   "source": [
    "random_search.best_params_"
   ]
  },
  {
   "cell_type": "code",
   "execution_count": null,
   "metadata": {},
   "outputs": [],
   "source": [
    "random_search.score(X_test,y_test)"
   ]
  },
  {
   "cell_type": "code",
   "execution_count": null,
   "metadata": {},
   "outputs": [],
   "source": [
    "print_predict(y_test,random_search.predict(X_test))"
   ]
  },
  {
   "cell_type": "code",
   "execution_count": null,
   "metadata": {},
   "outputs": [],
   "source": []
  }
 ],
 "metadata": {
  "kernelspec": {
   "display_name": "Python 3",
   "language": "python",
   "name": "python3"
  },
  "language_info": {
   "codemirror_mode": {
    "name": "ipython",
    "version": 3
   },
   "file_extension": ".py",
   "mimetype": "text/x-python",
   "name": "python",
   "nbconvert_exporter": "python",
   "pygments_lexer": "ipython3",
   "version": "3.8.5"
  }
 },
 "nbformat": 4,
 "nbformat_minor": 4
}
